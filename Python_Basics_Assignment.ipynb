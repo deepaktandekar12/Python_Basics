{
 "cells": [
  {
   "cell_type": "markdown",
   "id": "c5ef61c8-6b6b-4c5c-8e6b-a2f80bb3fd8e",
   "metadata": {},
   "source": [
    "### Que.1) What is Python, and why is it popular?\n",
    "- Python is a high-level, interpreted programming language known for its simple syntax and readability.\n",
    "- following key resions for it's popularity...1)It is a easy to learn and versatile language.2)It has huge libraries like Pandas, NumPy, TensorFlow for flow up work.3) It has large comunity (Easy to find help, tutorials, and support).4)It has a cross platform(Runs on Windows, Mac, Linux without major changes)."
   ]
  },
  {
   "cell_type": "markdown",
   "id": "53dbd1bc-a013-4585-bc66-56e24e04f4e4",
   "metadata": {},
   "source": [
    "### Que.2) What is an interpreter in Python?\n",
    "- An interpreter in Python is a program that reads and executes Python code line by line.\n",
    "        -"
   ]
  },
  {
   "cell_type": "markdown",
   "id": "64f0c55e-260c-4f3a-880f-004500e0988e",
   "metadata": {},
   "source": [
    "### Que.3) What are pre-defined keywords in Python?\n",
    "-  Pre-defined keywords in Python are reserved words that have special meanings in the language. You cannot use them as variable names or identifiers.These keywords define the syntax and structure of Python code — like how to write loops, conditions, functions, etc."
   ]
  },
  {
   "cell_type": "markdown",
   "id": "b6a24818-b3f5-4664-bcd9-05a0d319a14e",
   "metadata": {},
   "source": [
    "### Que.4) Can keywords be used as variable names?\n",
    "- No, keywords cannot be used as variable names in Python."
   ]
  },
  {
   "cell_type": "markdown",
   "id": "df8a8cab-0b1f-4a62-bb50-ec29b2683f15",
   "metadata": {},
   "source": [
    "### Que.5) What is mutability in Python?\n",
    "- Mutability refers to whether an object can be changed (modified) after it's created."
   ]
  },
  {
   "cell_type": "markdown",
   "id": "01b1a2f7-4827-448f-8b64-71cfba73550e",
   "metadata": {},
   "source": [
    "### Que.6) Why are lists mutable, but tuples are immutable?\n",
    "- Lists are Mutable because:\n",
    "Lists are meant to store collections of items that may change.\n",
    "You often need to add, remove, or modify elements in a list.\n",
    "Python allows this flexibility for practical use.\n",
    "\n",
    "- Tuples are Immutable because:\n",
    "Tuples are used for fixed data — like coordinates, dates, or dictionary keys.\n",
    "Immutability makes them faster, memory-efficient, and safe to use as keys in dictionaries or elements in sets.\n",
    "Python prevents changes to tuples to avoid accidental bugs when data shouldn't change."
   ]
  },
  {
   "cell_type": "markdown",
   "id": "007a3500-6528-4307-a96f-b20891b8d769",
   "metadata": {},
   "source": [
    "### Que:-7) What is the difference between “==” and “is” operators in Python?\n",
    "- \"==\" operater use for values is equal or not. In simple words we can say it's check Equality.\n",
    "-   but \"is\"operater use for compares whether both variables refer to the same object."
   ]
  },
  {
   "cell_type": "markdown",
   "id": "20114c4d-3cec-4fa6-951b-d845ef217a5c",
   "metadata": {},
   "source": [
    "### Que.8) What are logical operators in Python?\n",
    "- Logical operators are used to combine multiple conditions (True/False) and return a boolean result (True or False)."
   ]
  },
  {
   "cell_type": "markdown",
   "id": "224bc72d-584b-44a4-8d6c-8ff508c582b0",
   "metadata": {},
   "source": [
    "### Que.9) What is type casting in Python?\n",
    "- Type casting is the process of converting a value from one data type to another, like from a string to an integer, or a float to a string."
   ]
  },
  {
   "cell_type": "markdown",
   "id": "2869060c-cafd-49a0-9cb6-abec60607db9",
   "metadata": {},
   "source": [
    "### Que.10) What is the difference between implicit and explicit type casting?\n",
    "- Implicit Type Casting is automatically done by the compiler/interpreter.No need for the programmer to specify the conversion.It happens when converting from a smaller to a larger or more general data type (e.g., int to float).\n",
    "  but Explicit Type Casting manually done by the programmer. Requires using casting functions or syntax.it used when you want to forcefully change the type, even if it's not safe or automatic."
   ]
  },
  {
   "cell_type": "markdown",
   "id": "ca15922f-57f4-48ae-97a4-1f8f4a068d55",
   "metadata": {},
   "source": [
    "### Que.11) What is the purpose of conditional statements in Python?\n",
    "- Conditional statements are used to make decisions in a Python program. They allow the program to execute certain blocks of code only if specific conditions are true."
   ]
  },
  {
   "cell_type": "markdown",
   "id": "8af63048-f77c-43e1-87f9-70d5cd4a6456",
   "metadata": {},
   "source": [
    "### Que.12) How does the elif statement work?\n",
    "- The “elif” keyword in Python, stands for “else if”. It can be used in conditional statements to check for multiple conditions. For example, if the first condition is false, it moves on to the next “elif” statement to check if that condition is true."
   ]
  },
  {
   "cell_type": "markdown",
   "id": "b459302f-bb1f-440a-ad0d-aa111ceb5c7c",
   "metadata": {},
   "source": [
    "### Que.13) What is the difference between for and while loops?\n",
    "- The main difference between for and while loops lies in their structure and typical usage. \n",
    "For loops are used when you know the number of iterations beforehand,Example- for i in range(5): This loop will run exactly 5 times, iterating through numbers 0 to 4. \n",
    " while \n",
    " while loops are used when the number of iterations is unknown and depends on a condition being met. Example- while condition: This loop will continue as long as the condition evaluates to True. "
   ]
  },
  {
   "cell_type": "markdown",
   "id": "91f85de4-0445-4bfa-b695-c5b9335bcc75",
   "metadata": {},
   "source": [
    "### Que.14) Describe a scenario where a while loop is more suitable than a for loop?\n",
    "- A while loop is better when you don’t know in advance how many times the loop should run — the loop should continue based on a condition, not a fixed number of iterations.\n",
    " Real-life Scenario: User Login Attempt:-\n",
    "Suppose you are building a login system that keeps asking for the correct password until the user enters it correctly.\n",
    "You don’t know how many tries the user will need — so a while loop is ideal."
   ]
  },
  {
   "cell_type": "markdown",
   "id": "689f3541-45fc-4291-aceb-a714c5eab262",
   "metadata": {},
   "source": [
    "# Practical Questions"
   ]
  },
  {
   "cell_type": "markdown",
   "id": "f321651a-0cf1-4dc7-9090-744a1c712413",
   "metadata": {},
   "source": [
    "### Que.1) Write a Python program to print \"Hello, World!\""
   ]
  },
  {
   "cell_type": "code",
   "execution_count": 3,
   "id": "7d9851d2-e884-40e4-bac4-84c1568e461f",
   "metadata": {},
   "outputs": [
    {
     "name": "stdout",
     "output_type": "stream",
     "text": [
      "Hello, World!\n"
     ]
    }
   ],
   "source": [
    "print(\"Hello, World!\")"
   ]
  },
  {
   "cell_type": "markdown",
   "id": "8057e6f9-540a-4f3d-95f9-10344d5138dd",
   "metadata": {},
   "source": [
    "### Que.2) Write a Python program that displays your name and age."
   ]
  },
  {
   "cell_type": "code",
   "execution_count": null,
   "id": "0b518365-0360-4c3b-8deb-59136dc4af9a",
   "metadata": {},
   "outputs": [],
   "source": [
    "name = print(input(f\"inter your name here\"))\n",
    "age = print(input(f\"inter your age here\"))"
   ]
  },
  {
   "cell_type": "markdown",
   "id": "2350db1e-52d3-46d8-866e-6d51a9261831",
   "metadata": {},
   "source": [
    "### Que.3) Write code to print all the pre-defined keywords in Python using the keyword library."
   ]
  },
  {
   "cell_type": "code",
   "execution_count": null,
   "id": "d85e8d06-5f3a-45f7-bcb9-1edab9f9fa37",
   "metadata": {},
   "outputs": [],
   "source": [
    "# Print the total number of keywords\n",
    "print(f\"Total number of keywords in Python: {len(keywords_list)}\")\n",
    "\n",
    "# Print each keyword\n",
    "print(\"List of Python keywords:\")\n",
    "for kw in keywords_list:\n",
    "    print(kw)"
   ]
  },
  {
   "cell_type": "markdown",
   "id": "1a43e484-c9fc-474a-ab04-4a4ed2c99243",
   "metadata": {},
   "source": [
    "### Que.4) Write a program that checks if a given word is a Python keyword."
   ]
  },
  {
   "cell_type": "code",
   "execution_count": null,
   "id": "da60a674-7c69-488b-abbc-e6581d1fcb6a",
   "metadata": {},
   "outputs": [],
   "source": [
    "# Ask the user to enter a word\n",
    "word = input(\"Enter a word to check if it's a Python keyword: \")\n",
    "\n",
    "# Check if the word is a Python keyword\n",
    "if keyword.iskeyword(word):\n",
    "    print(f\"YES '{word}' is a Python keyword.\")\n",
    "else:\n",
    "    print(f\"NO '{word}' is NOT a Python keyword.\") "
   ]
  },
  {
   "cell_type": "markdown",
   "id": "b94ca8a5-2b8b-4b2c-b3ac-44d730077b79",
   "metadata": {},
   "source": [
    "### Que.5)  Create a list and tuple in Python, and demonstrate how attempting to change an element works differently for each."
   ]
  },
  {
   "cell_type": "code",
   "execution_count": null,
   "id": "90e53116-4bcd-45a6-b268-f48bbbcb4319",
   "metadata": {},
   "outputs": [],
   "source": [
    "# Creating a list and a tuple\n",
    "my_list = [10, 20, 30]\n",
    "my_tuple = (10, 20, 30)\n",
    "\n",
    "# Modify an element in the list\n",
    "print(\"Original list:\", my_list)\n",
    "my_list[1] = 99\n",
    "print(\"Modified list:\", my_list)\n",
    "\n",
    "# Try modifying an element in the tuple\n",
    "print(\"Original tuple:\", my_tuple)\n",
    "try:\n",
    "    my_tuple[1] = 99  # This will raise an error\n",
    "except TypeError as e:\n",
    "    print(\"Error:\", e)"
   ]
  },
  {
   "cell_type": "markdown",
   "id": "e8728396-fe19-4747-b5cd-a343c18d3d94",
   "metadata": {},
   "source": [
    "### Que.6) Write a function to demonstrate the behavior of mutable and immutable arguments."
   ]
  },
  {
   "cell_type": "code",
   "execution_count": null,
   "id": "ec3344cd-2b4f-4b46-b6bc-3d649fc3ae51",
   "metadata": {},
   "outputs": [],
   "source": [
    "def modify_arguments(num, num_list):\n",
    "    # Try modifying the integer (immutable)\n",
    "    print(\"Inside function (before change):\")\n",
    "    print(f\"num = {num}\")\n",
    "    print(f\"num_list = {num_list}\")\n",
    "\n",
    "    num += 10              # This creates a new integer object\n",
    "    num_list.append(99)    # This modifies the original list\n",
    "\n",
    "    print(\"\\nInside function (after change):\")\n",
    "    print(f\"num = {num}\")\n",
    "    print(f\"num_list = {num_list}\")\n",
    "\n",
    "\n",
    "# Main program\n",
    "x = 5                     # Immutable\n",
    "my_list = [1, 2, 3]       # Mutable\n",
    "\n",
    "modify_arguments(x, my_list)\n",
    "\n",
    "print(\"\\nOutside function:\")\n",
    "print(f\"x = {x}\")             # Unchanged\n",
    "print(f\"my_list = {my_list}\") # Changed\n"
   ]
  },
  {
   "cell_type": "markdown",
   "id": "f0365909-0167-4957-ba3c-b5d66cacd8f5",
   "metadata": {},
   "source": [
    "### Que.7)  Write a program that performs basic arithmetic operations on two user-input numbers."
   ]
  },
  {
   "cell_type": "code",
   "execution_count": null,
   "id": "fe8b0fe6-61c4-4d8d-bd50-750b3e81d3c9",
   "metadata": {},
   "outputs": [],
   "source": [
    "# Get input from the user\n",
    "num1 = float(input(\"Enter the first number: \"))\n",
    "num2 = float(input(\"Enter the second number: \"))\n",
    "\n",
    "# Perform basic arithmetic operations\n",
    "print(\"\\nArithmetic Operations:\")\n",
    "print(f\"Addition: {num1} + {num2} = {num1 + num2}\")\n",
    "print(f\"Subtraction: {num1} - {num2} = {num1 - num2}\")\n",
    "print(f\"Multiplication: {num1} * {num2} = {num1 * num2}\")\n",
    "\n",
    "# Check for division by zero\n",
    "if num2 != 0:\n",
    "    print(f\"Division: {num1} / {num2} = {num1 / num2}\")"
   ]
  },
  {
   "cell_type": "markdown",
   "id": "6445a14e-5632-40a5-bca5-cdfea92ee367",
   "metadata": {},
   "source": [
    "### Que.8) Write a program to demonstrate the use of logical operators."
   ]
  },
  {
   "cell_type": "code",
   "execution_count": null,
   "id": "268d9175-72f5-4e3f-89e0-661966fec7ec",
   "metadata": {},
   "outputs": [],
   "source": [
    "# Get input from user\n",
    "a = int(input(\"Enter first number (a): \"))\n",
    "b = int(input(\"Enter second number (b): \"))\n",
    "\n",
    "print(\"\\nLogical Operator Demonstration:\")\n",
    "\n",
    "# Logical AND\n",
    "print(f\"(a > 0 and b > 0): {a > 0 and b > 0}\")\n",
    "\n",
    "# Logical OR\n",
    "print(f\"(a > 0 or b > 0): {a > 0 or b > 0}\")\n",
    "\n",
    "# Logical NOT\n",
    "print(f\"not (a > 0): {not (a > 0)}\")"
   ]
  },
  {
   "cell_type": "markdown",
   "id": "1fa2536a-8ece-422b-b8fe-88ee0400db43",
   "metadata": {},
   "source": [
    "### Que.9) Write a Python program to convert user input from string to integer, float, and boolean types."
   ]
  },
  {
   "cell_type": "code",
   "execution_count": null,
   "id": "85dea8c9-2cb7-4973-a2f7-a032f7601fdc",
   "metadata": {},
   "outputs": [],
   "source": [
    "# Get input from the user\n",
    "value = input(\"Enter something: \")\n",
    "\n",
    "# Convert to integer\n",
    "int_value = int(value)\n",
    "print(\"Integer:\", int_value)\n",
    "\n",
    "# Convert to float\n",
    "float_value = float(value)\n",
    "print(\"Float:\", float_value)\n",
    "\n",
    "# Convert to boolean\n",
    "bool_value = bool(value)\n",
    "print(\"Boolean:\", bool_value)"
   ]
  },
  {
   "cell_type": "markdown",
   "id": "6f787cf6-e657-4687-b617-bcbf8029150d",
   "metadata": {},
   "source": [
    "### Que.10) Write code to demonstrate type casting with list elements."
   ]
  },
  {
   "cell_type": "code",
   "execution_count": null,
   "id": "3c667891-6da4-4e06-bfa5-a9ba5fa2fe37",
   "metadata": {},
   "outputs": [],
   "source": [
    "# List of strings (as input values)\n",
    "str_list = ['10', '20', '30']\n",
    "\n",
    "# Convert string list to integer list\n",
    "int_list = [int(item) for item in str_list]\n",
    "print(\"Integer list:\", int_list)\n",
    "\n",
    "# Convert string list to float list\n",
    "float_list = [float(item) for item in str_list]\n",
    "print(\"Float list:\", float_list)"
   ]
  },
  {
   "cell_type": "markdown",
   "id": "afadee4a-59e6-43ea-b601-64b84c867c9b",
   "metadata": {},
   "source": [
    "### Que.11) Write a program that checks if a number is positive, negative, or zero."
   ]
  },
  {
   "cell_type": "code",
   "execution_count": null,
   "id": "a9f89b50-e016-4962-855e-1ef0b65459e5",
   "metadata": {},
   "outputs": [],
   "source": [
    "# Get input from the user\n",
    "num = float(input(\"Enter a number: \"))\n",
    "\n",
    "# Check the condition\n",
    "if num > 0:\n",
    "    print(\"The number is positive.\")\n",
    "elif num < 0:\n",
    "    print(\"The number is negative.\")\n",
    "else:\n",
    "    print(\"The number is zero.\")"
   ]
  },
  {
   "cell_type": "markdown",
   "id": "f6346b84-bbe3-41a8-b264-75e800b7274f",
   "metadata": {},
   "source": [
    "### Que.12) Write a for loop to print numbers from 1 to 10."
   ]
  },
  {
   "cell_type": "code",
   "execution_count": null,
   "id": "45792944-a0b0-4e99-a3ff-8eda73625bc4",
   "metadata": {},
   "outputs": [],
   "source": [
    "for i in range(1, 11):\n",
    "    print(i)"
   ]
  },
  {
   "cell_type": "markdown",
   "id": "ddb94127-5b17-4c78-ae81-df3d264cb761",
   "metadata": {},
   "source": [
    "### Que.13)  Write a Python program to find the sum of all even numbers between 1 and 50."
   ]
  },
  {
   "cell_type": "code",
   "execution_count": null,
   "id": "1f6ebc3e-bb28-45a4-8d92-f39f42c084ba",
   "metadata": {},
   "outputs": [],
   "source": [
    "sum_even = 0\n",
    "\n",
    "for i in range(2, 51, 2):  # start at 2, go up to 50, step by 2\n",
    "    sum_even += i\n",
    "\n",
    "print(\"Sum of even numbers from 1 to 50 is:\", sum_even)"
   ]
  },
  {
   "cell_type": "markdown",
   "id": "6076be2c-16fd-4f20-85b7-593a53a49747",
   "metadata": {},
   "source": [
    "### Que.14) Write a program to reverse a string using a while loop."
   ]
  },
  {
   "cell_type": "code",
   "execution_count": null,
   "id": "8f6b08a5-3fb2-4f62-9bb9-a0913061fd16",
   "metadata": {},
   "outputs": [],
   "source": [
    "# Get input from the user\n",
    "text = input(\"Enter a string: \")\n",
    "\n",
    "# Initialize variables\n",
    "reversed_text = \"\"\n",
    "index = len(text) - 1\n",
    "\n",
    "# Use while loop to reverse the string\n",
    "while index >= 0:\n",
    "    reversed_text += text[index]\n",
    "    index -= 1\n",
    "\n",
    "# Print the reversed string\n",
    "print(\"Reversed string:\", reversed_text)"
   ]
  },
  {
   "cell_type": "markdown",
   "id": "d9c8e619-fdf2-4f2b-b919-6f5eb353e81e",
   "metadata": {},
   "source": [
    "### Que.15) Write a Python program to calculate the factorial of a number provided by the user using a while loop."
   ]
  },
  {
   "cell_type": "code",
   "execution_count": null,
   "id": "b0ff35e2-300c-4423-9785-17029a0a5f3a",
   "metadata": {},
   "outputs": [],
   "source": [
    "# Get input from the user\n",
    "num = int(input(\"Enter a number: \"))\n",
    "\n",
    "# Initialize variables\n",
    "factorial = 1\n",
    "i = 1\n",
    "\n",
    "# Calculate factorial using while loop\n",
    "while i <= num:\n",
    "    factorial *= i\n",
    "    i += 1\n",
    "\n",
    "# Print the result\n",
    "print(\"Factorial of\", num, \"is:\", factorial)"
   ]
  }
 ],
 "metadata": {
  "kernelspec": {
   "display_name": "Python 3 (ipykernel)",
   "language": "python",
   "name": "python3"
  },
  "language_info": {
   "codemirror_mode": {
    "name": "ipython",
    "version": 3
   },
   "file_extension": ".py",
   "mimetype": "text/x-python",
   "name": "python",
   "nbconvert_exporter": "python",
   "pygments_lexer": "ipython3",
   "version": "3.13.5"
  }
 },
 "nbformat": 4,
 "nbformat_minor": 5
}
